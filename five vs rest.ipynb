{
 "cells": [
  {
   "cell_type": "markdown",
   "source": [
    "## Importing the libraries"
   ],
   "metadata": {
    "collapsed": false
   },
   "id": "8b5bd79b1ab577c3"
  },
  {
   "cell_type": "code",
   "outputs": [],
   "source": [
    "import os\n",
    "import pandas as pd\n",
    "import numpy as np\n",
    "import tensorflow as tf\n",
    "from sklearn.model_selection import StratifiedKFold\n",
    "from tensorflow.keras.applications.resnet50 import preprocess_input\n",
    "from tensorflow.keras.preprocessing.image import ImageDataGenerator\n",
    "from tensorflow.keras.preprocessing import image\n",
    "from PIL import Image\n",
    "from sklearn.metrics import confusion_matrix , classification_report\n",
    "from sklearn.preprocessing import LabelBinarizer\n",
    "from tensorflow.keras.utils import to_categorical"
   ],
   "metadata": {
    "collapsed": false,
    "ExecuteTime": {
     "end_time": "2024-03-04T21:17:48.844616400Z",
     "start_time": "2024-03-04T21:17:48.805413Z"
    }
   },
   "id": "cf4e5dc19998dc67",
   "execution_count": 65
  },
  {
   "cell_type": "markdown",
   "source": [
    "\n",
    "## Dataset preparation"
   ],
   "metadata": {
    "collapsed": false
   },
   "id": "d7a0b025d10136bc"
  },
  {
   "cell_type": "code",
   "outputs": [
    {
     "name": "stdout",
     "output_type": "stream",
     "text": [
      "                         filepaths    labels            labels_modified\n",
      "0  animals\\antelope\\02f4b3be2d.jpg  antelope  [0.0, 1.0, 0.0, 0.0, 0.0]\n",
      "1  animals\\antelope\\03d7fc0888.jpg  antelope  [0.0, 1.0, 0.0, 0.0, 0.0]\n",
      "2  animals\\antelope\\058fa9a60f.jpg  antelope  [0.0, 1.0, 0.0, 0.0, 0.0]\n",
      "3  animals\\antelope\\0a37838e99.jpg  antelope  [0.0, 1.0, 0.0, 0.0, 0.0]\n",
      "4  animals\\antelope\\0b1a3af197.jpg  antelope  [0.0, 1.0, 0.0, 0.0, 0.0]\n"
     ]
    }
   ],
   "source": [
    "directory = 'animals'\n",
    "filepaths =[]\n",
    "labels=[]\n",
    "folders = os.listdir(directory)\n",
    "for folder in folders:\n",
    "    folder_path = os.path.join(directory, folder)\n",
    "    filenames= os.listdir(folder_path)\n",
    "    for filename in filenames:\n",
    "        filepath = os.path.join(folder_path, filename)\n",
    "        filepaths.append(filepath)\n",
    "        labels.append(folder)\n",
    "        \n",
    "file_series = pd.Series(filepaths , name='filepaths')\n",
    "label_series = pd.Series(labels , name='labels')\n",
    "element_series = pd.concat([file_series , label_series], axis=1)\n",
    "# Modify the labels for 5-vs-rest classification\n",
    "element_series['labels_modified'] = np.where(element_series['labels'].isin(selected_classes), '1', '0')\n",
    "\n",
    "# Convert labels to one-hot encoded format\n",
    "labels_one_hot = to_categorical(element_series['labels_modified'], num_classes=5)\n",
    "\n",
    "# Update the label column in element_series\n",
    "element_series['labels_modified'] = labels_one_hot.tolist()\n",
    "\n",
    "# Print the first few rows of the modified DataFrame\n",
    "print(element_series.head())"
   ],
   "metadata": {
    "collapsed": false,
    "ExecuteTime": {
     "end_time": "2024-03-04T21:17:48.918513800Z",
     "start_time": "2024-03-04T21:17:48.855619600Z"
    }
   },
   "id": "dfcdcce049dffcfa",
   "execution_count": 66
  },
  {
   "cell_type": "markdown",
   "source": [
    "## Preparing the model using cnn"
   ],
   "metadata": {
    "collapsed": false
   },
   "id": "4647c4d356520144"
  },
  {
   "cell_type": "code",
   "outputs": [],
   "source": [
    "cnn = tf.keras.Sequential()\n",
    "cnn.add(tf.keras.layers.Conv2D(32, (3, 3), activation='relu', input_shape=(64,64,3))) #1st convolutional layer\n",
    "cnn.add(tf.keras.layers.MaxPooling2D(pool_size = 2, strides = 2))\n",
    "cnn.add(tf.keras.layers.Conv2D(64, (3, 3), activation='relu'))\n",
    "cnn.add(tf.keras.layers.MaxPooling2D(pool_size=(2, 2)))\n",
    "\n",
    "cnn.add(tf.keras.layers.Conv2D(128, (3, 3), activation='relu'))\n",
    "cnn.add(tf.keras.layers.MaxPooling2D(pool_size=(2, 2)))\n",
    "\n",
    "cnn.add(tf.keras.layers.Flatten())\n",
    "\n",
    "cnn.add(tf.keras.layers.Dense(512, activation='relu'))\n",
    "cnn.add(tf.keras.layers.Dropout(0.5))  # Adding dropout for regularization\n",
    "\n",
    "cnn.add(tf.keras.layers.Dense(256, activation='relu'))\n",
    "cnn.add(tf.keras.layers.Dropout(0.5))  # Adding dropout for regularization\n",
    "\n",
    "# Output layer with softmax activation for multiclass classification\n",
    "cnn.add(tf.keras.layers.Dense(1, activation='sigmoid'))\n",
    "\n",
    "\n",
    "cnn.compile(optimizer='adam', loss='categorical_crossentropy', metrics=['accuracy'])\n"
   ],
   "metadata": {
    "collapsed": false,
    "ExecuteTime": {
     "end_time": "2024-03-04T21:17:49.051820800Z",
     "start_time": "2024-03-04T21:17:48.915515500Z"
    }
   },
   "id": "125e3623856d0edd",
   "execution_count": 67
  },
  {
   "cell_type": "code",
   "outputs": [],
   "source": [
    "def load_image(filepath, target_size=(224, 224)):\n",
    "    img = Image.open(filepath)\n",
    "    img = img.resize(target_size)\n",
    "    img_array = image.img_to_array(img)\n",
    "    img_array = np.expand_dims(img_array, axis=0)\n",
    "    img_array = preprocess_input(img_array)\n",
    "    return img_array"
   ],
   "metadata": {
    "collapsed": false,
    "ExecuteTime": {
     "end_time": "2024-03-04T21:17:49.068822300Z",
     "start_time": "2024-03-04T21:17:49.057820Z"
    }
   },
   "id": "869124e179fbf479",
   "execution_count": 68
  },
  {
   "cell_type": "markdown",
   "source": [
    "## Applying 3 fold cross verification"
   ],
   "metadata": {
    "collapsed": false
   },
   "id": "5670569ce4b14578"
  },
  {
   "cell_type": "code",
   "outputs": [
    {
     "name": "stdout",
     "output_type": "stream",
     "text": [
      "Fold 1:\n",
      "Training dataset size: 3600\n",
      "Validation dataset size: 1800\n",
      "Found 3600 validated image filenames belonging to 2 classes.\n"
     ]
    },
    {
     "name": "stderr",
     "output_type": "stream",
     "text": [
      "C:\\Users\\ankit\\AppData\\Local\\Temp\\ipykernel_14968\\2521178816.py:9: SettingWithCopyWarning: \n",
      "A value is trying to be set on a copy of a slice from a DataFrame.\n",
      "Try using .loc[row_indexer,col_indexer] = value instead\n",
      "\n",
      "See the caveats in the documentation: https://pandas.pydata.org/pandas-docs/stable/user_guide/indexing.html#returning-a-view-versus-a-copy\n",
      "  train_fold_df['labels_modified'] = train_fold_df['labels_modified'].astype(str)\n",
      "C:\\Users\\ankit\\AppData\\Local\\Temp\\ipykernel_14968\\2521178816.py:10: SettingWithCopyWarning: \n",
      "A value is trying to be set on a copy of a slice from a DataFrame.\n",
      "Try using .loc[row_indexer,col_indexer] = value instead\n",
      "\n",
      "See the caveats in the documentation: https://pandas.pydata.org/pandas-docs/stable/user_guide/indexing.html#returning-a-view-versus-a-copy\n",
      "  val_fold_df['labels_modified'] = val_fold_df['labels_modified'].astype(str)\n"
     ]
    },
    {
     "name": "stdout",
     "output_type": "stream",
     "text": [
      "Found 1800 validated image filenames belonging to 2 classes.\n"
     ]
    },
    {
     "name": "stderr",
     "output_type": "stream",
     "text": [
      "C:\\Users\\ankit\\.conda\\envs\\tf_cpu\\lib\\site-packages\\tensorflow\\python\\util\\dispatch.py:1260: SyntaxWarning: In loss categorical_crossentropy, expected y_pred.shape to be (batch_size, num_classes) with num_classes > 1. Received: y_pred.shape=(None, 1). Consider using 'binary_crossentropy' if you only have 2 classes.\n",
      "  return dispatch_target(*args, **kwargs)\n"
     ]
    },
    {
     "name": "stdout",
     "output_type": "stream",
     "text": [
      " 67/113 [================>.............] - ETA: 17s - loss: 0.0000e+00 - accuracy: 0.0606"
     ]
    }
   ],
   "source": [
    "n_splits =3\n",
    "skf = StratifiedKFold(n_splits=n_splits , random_state= 42, shuffle=True)\n",
    "fold_indices = list(skf.split(element_series['filepaths'], element_series['labels']))\n",
    "for fold , (train_index, val_index)in enumerate(fold_indices):\n",
    "    print(f\"Fold {fold + 1}:\")\n",
    "    train_fold_df = element_series.iloc[train_index]\n",
    "    val_fold_df = element_series.iloc[val_index]\n",
    "    # Convert labels_modified column values to strings\n",
    "    train_fold_df['labels_modified'] = train_fold_df['labels_modified'].astype(str)\n",
    "    val_fold_df['labels_modified'] = val_fold_df['labels_modified'].astype(str)\n",
    "    print(\"Training dataset size:\", len(train_fold_df))\n",
    "    print(\"Validation dataset size:\", len(val_fold_df))\n",
    "\n",
    "    train_datagen = ImageDataGenerator(\n",
    "        rescale=1./255,\n",
    "        rotation_range=40,\n",
    "        width_shift_range=0.2,\n",
    "        height_shift_range=0.2,\n",
    "        shear_range=0.2,\n",
    "        zoom_range=0.2,\n",
    "        horizontal_flip=True,\n",
    "        fill_mode='nearest'\n",
    "    )\n",
    "\n",
    "    # Validation data should only be rescaled\n",
    "    test_datagen = ImageDataGenerator(rescale=1./255)\n",
    "    \n",
    "    # Create data generators for train and validation sets\n",
    "    train_generator = train_datagen.flow_from_dataframe(\n",
    "        dataframe=train_fold_df,\n",
    "        x_col='filepaths',\n",
    "        y_col='labels_modified',\n",
    "        target_size=(64, 64),  # Adjust according to your model's input shape\n",
    "        batch_size=32,\n",
    "        class_mode='binary'  # or 'categorical' for multiclass classification\n",
    "    )\n",
    "    \n",
    "    validation_generator = test_datagen.flow_from_dataframe(\n",
    "        dataframe=val_fold_df,\n",
    "        x_col='filepaths',\n",
    "        y_col='labels_modified',\n",
    "        target_size=(64, 64),  # Adjust according to your model's input shape\n",
    "        batch_size=32,\n",
    "        class_mode='binary'  # or 'categorical' for multiclass classification\n",
    "    )\n",
    "    \n",
    "    # Train your model using the data generators\n",
    "    history = cnn.fit(\n",
    "        train_generator,\n",
    "        epochs=1,\n",
    "        validation_data=validation_generator,\n",
    "        validation_steps=len(validation_generator)\n",
    "    )\n",
    "        # Evaluate accuracy\n",
    "    val_loss, val_acc = cnn.evaluate(validation_generator)\n",
    "    print(f\"Validation Accuracy: {val_acc}\")\n",
    "    \n",
    "    # Get predicted labels\n",
    "    val_pred = cnn.predict(validation_generator)\n",
    "    val_pred_labels = np.argmax(val_pred, axis=1)\n",
    "    \n",
    "    # Calculate confusion matrix\n",
    "    cm = confusion_matrix(validation_generator.classes, val_pred_labels)\n",
    "    print(f\"Confusion Matrix for Fold {fold + 1}:\\n{cm}\\n\")\n"
   ],
   "metadata": {
    "collapsed": false,
    "is_executing": true,
    "ExecuteTime": {
     "start_time": "2024-03-04T21:17:49.076818400Z"
    }
   },
   "id": "ac489c30cd7ad6",
   "execution_count": null
  }
 ],
 "metadata": {
  "kernelspec": {
   "display_name": "Python 3",
   "language": "python",
   "name": "python3"
  },
  "language_info": {
   "codemirror_mode": {
    "name": "ipython",
    "version": 2
   },
   "file_extension": ".py",
   "mimetype": "text/x-python",
   "name": "python",
   "nbconvert_exporter": "python",
   "pygments_lexer": "ipython2",
   "version": "2.7.6"
  }
 },
 "nbformat": 4,
 "nbformat_minor": 5
}
